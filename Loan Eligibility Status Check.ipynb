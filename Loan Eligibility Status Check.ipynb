{
 "cells": [
  {
   "cell_type": "markdown",
   "id": "007c836b",
   "metadata": {},
   "source": [
    "# 1. Business Problem Understanding\n",
    "- Dream Housing Finance Company deals in all kinds of home loans. They have presence across all urban, semi urban and rural areas. Customer first applies for home loan and after that company validates the **Customer's Eligibility for Loan.**\n",
    "- Company wants to automate the **Loan Eligibility Process ( real time )** based on customer detail provided while filling the application form. These details are Gender , Marital Status,Education , Number of Dependents , Income , Loan Amount , Credit History and others. To automate this process , they have provided a dataset to identify the customers segments that are eligible for loan amount so that they can specifically target these customers."
   ]
  },
  {
   "cell_type": "code",
   "execution_count": 2,
   "id": "736c25b6",
   "metadata": {},
   "outputs": [],
   "source": [
    "import numpy as np\n",
    "import seaborn as sns\n",
    "import matplotlib.pyplot as plt\n",
    "import pandas as pd\n",
    "\n",
    "import warnings\n",
    "warnings.filterwarnings('ignore')"
   ]
  },
  {
   "cell_type": "markdown",
   "id": "b6439865",
   "metadata": {},
   "source": [
    "### Loading the Data"
   ]
  },
  {
   "cell_type": "code",
   "execution_count": 3,
   "id": "4d884338",
   "metadata": {
    "scrolled": true
   },
   "outputs": [
    {
     "data": {
      "text/html": [
       "<div>\n",
       "<style scoped>\n",
       "    .dataframe tbody tr th:only-of-type {\n",
       "        vertical-align: middle;\n",
       "    }\n",
       "\n",
       "    .dataframe tbody tr th {\n",
       "        vertical-align: top;\n",
       "    }\n",
       "\n",
       "    .dataframe thead th {\n",
       "        text-align: right;\n",
       "    }\n",
       "</style>\n",
       "<table border=\"1\" class=\"dataframe\">\n",
       "  <thead>\n",
       "    <tr style=\"text-align: right;\">\n",
       "      <th></th>\n",
       "      <th>Loan_ID</th>\n",
       "      <th>Gender</th>\n",
       "      <th>Married</th>\n",
       "      <th>Dependents</th>\n",
       "      <th>Education</th>\n",
       "      <th>Self_Employed</th>\n",
       "      <th>ApplicantIncome</th>\n",
       "      <th>CoapplicantIncome</th>\n",
       "      <th>LoanAmount</th>\n",
       "      <th>Loan_Amount_Term</th>\n",
       "      <th>Credit_History</th>\n",
       "      <th>Property_Area</th>\n",
       "      <th>Loan_Status</th>\n",
       "    </tr>\n",
       "  </thead>\n",
       "  <tbody>\n",
       "    <tr>\n",
       "      <th>0</th>\n",
       "      <td>LP001002</td>\n",
       "      <td>Male</td>\n",
       "      <td>No</td>\n",
       "      <td>0</td>\n",
       "      <td>Graduate</td>\n",
       "      <td>No</td>\n",
       "      <td>5849</td>\n",
       "      <td>0.0</td>\n",
       "      <td>NaN</td>\n",
       "      <td>360.0</td>\n",
       "      <td>1.0</td>\n",
       "      <td>Urban</td>\n",
       "      <td>Y</td>\n",
       "    </tr>\n",
       "    <tr>\n",
       "      <th>1</th>\n",
       "      <td>LP001003</td>\n",
       "      <td>Male</td>\n",
       "      <td>Yes</td>\n",
       "      <td>1</td>\n",
       "      <td>Graduate</td>\n",
       "      <td>No</td>\n",
       "      <td>4583</td>\n",
       "      <td>1508.0</td>\n",
       "      <td>128.0</td>\n",
       "      <td>360.0</td>\n",
       "      <td>1.0</td>\n",
       "      <td>Rural</td>\n",
       "      <td>N</td>\n",
       "    </tr>\n",
       "    <tr>\n",
       "      <th>2</th>\n",
       "      <td>LP001005</td>\n",
       "      <td>Male</td>\n",
       "      <td>Yes</td>\n",
       "      <td>0</td>\n",
       "      <td>Graduate</td>\n",
       "      <td>Yes</td>\n",
       "      <td>3000</td>\n",
       "      <td>0.0</td>\n",
       "      <td>66.0</td>\n",
       "      <td>360.0</td>\n",
       "      <td>1.0</td>\n",
       "      <td>Urban</td>\n",
       "      <td>Y</td>\n",
       "    </tr>\n",
       "    <tr>\n",
       "      <th>3</th>\n",
       "      <td>LP001006</td>\n",
       "      <td>Male</td>\n",
       "      <td>Yes</td>\n",
       "      <td>0</td>\n",
       "      <td>Not Graduate</td>\n",
       "      <td>No</td>\n",
       "      <td>2583</td>\n",
       "      <td>2358.0</td>\n",
       "      <td>120.0</td>\n",
       "      <td>360.0</td>\n",
       "      <td>1.0</td>\n",
       "      <td>Urban</td>\n",
       "      <td>Y</td>\n",
       "    </tr>\n",
       "    <tr>\n",
       "      <th>4</th>\n",
       "      <td>LP001008</td>\n",
       "      <td>Male</td>\n",
       "      <td>No</td>\n",
       "      <td>0</td>\n",
       "      <td>Graduate</td>\n",
       "      <td>No</td>\n",
       "      <td>6000</td>\n",
       "      <td>0.0</td>\n",
       "      <td>141.0</td>\n",
       "      <td>360.0</td>\n",
       "      <td>1.0</td>\n",
       "      <td>Urban</td>\n",
       "      <td>Y</td>\n",
       "    </tr>\n",
       "  </tbody>\n",
       "</table>\n",
       "</div>"
      ],
      "text/plain": [
       "    Loan_ID Gender Married Dependents     Education Self_Employed  \\\n",
       "0  LP001002   Male      No          0      Graduate            No   \n",
       "1  LP001003   Male     Yes          1      Graduate            No   \n",
       "2  LP001005   Male     Yes          0      Graduate           Yes   \n",
       "3  LP001006   Male     Yes          0  Not Graduate            No   \n",
       "4  LP001008   Male      No          0      Graduate            No   \n",
       "\n",
       "   ApplicantIncome  CoapplicantIncome  LoanAmount  Loan_Amount_Term  \\\n",
       "0             5849                0.0         NaN             360.0   \n",
       "1             4583             1508.0       128.0             360.0   \n",
       "2             3000                0.0        66.0             360.0   \n",
       "3             2583             2358.0       120.0             360.0   \n",
       "4             6000                0.0       141.0             360.0   \n",
       "\n",
       "   Credit_History Property_Area Loan_Status  \n",
       "0             1.0         Urban           Y  \n",
       "1             1.0         Rural           N  \n",
       "2             1.0         Urban           Y  \n",
       "3             1.0         Urban           Y  \n",
       "4             1.0         Urban           Y  "
      ]
     },
     "execution_count": 3,
     "metadata": {},
     "output_type": "execute_result"
    }
   ],
   "source": [
    "data = pd.read_csv('LoanData.csv')\n",
    "data.head()"
   ]
  },
  {
   "cell_type": "markdown",
   "id": "53594321",
   "metadata": {},
   "source": [
    "# 2. Data Understanding\n",
    "- Loan_ID : Unique Loan ID\n",
    " \n",
    "- Gender : Male/Female\n",
    "\n",
    "- Married : Applicant married or not\n",
    "\n",
    "- Dependents : Number of Dependents\n",
    "\n",
    "- Education : Applicant Education\n",
    "\n",
    "- Self_Employed : wheather the applicant is Self employed\n",
    "\n",
    "- ApplicantIncome : Applicant's Income\n",
    "\n",
    "- CoapplicantsIncome : Coapplicant's Income\n",
    "\n",
    "- LoanAmount : Loan amount in thosands\n",
    "\n",
    "- Loan_Amount_Term : Term of loan in months\n",
    "\n",
    "- Credit_History : credit history meets guidlines or not\n",
    "\n",
    "- Property_Area : Urban / Semi Urban / Rural\n",
    "\n",
    "- Loan_Status : Loan approved or not =>**Target variable** "
   ]
  },
  {
   "cell_type": "code",
   "execution_count": 4,
   "id": "27fe766d",
   "metadata": {},
   "outputs": [
    {
     "name": "stdout",
     "output_type": "stream",
     "text": [
      "<class 'pandas.core.frame.DataFrame'>\n",
      "RangeIndex: 614 entries, 0 to 613\n",
      "Data columns (total 13 columns):\n",
      " #   Column             Non-Null Count  Dtype  \n",
      "---  ------             --------------  -----  \n",
      " 0   Loan_ID            614 non-null    object \n",
      " 1   Gender             601 non-null    object \n",
      " 2   Married            611 non-null    object \n",
      " 3   Dependents         599 non-null    object \n",
      " 4   Education          614 non-null    object \n",
      " 5   Self_Employed      582 non-null    object \n",
      " 6   ApplicantIncome    614 non-null    int64  \n",
      " 7   CoapplicantIncome  614 non-null    float64\n",
      " 8   LoanAmount         592 non-null    float64\n",
      " 9   Loan_Amount_Term   600 non-null    float64\n",
      " 10  Credit_History     564 non-null    float64\n",
      " 11  Property_Area      614 non-null    object \n",
      " 12  Loan_Status        614 non-null    object \n",
      "dtypes: float64(4), int64(1), object(8)\n",
      "memory usage: 62.5+ KB\n"
     ]
    }
   ],
   "source": [
    "data.info()"
   ]
  },
  {
   "cell_type": "markdown",
   "id": "2e108e99",
   "metadata": {},
   "source": [
    "- **Understand each variable and value clearly .**"
   ]
  },
  {
   "cell_type": "code",
   "execution_count": 5,
   "id": "4d0b7681",
   "metadata": {},
   "outputs": [
    {
     "data": {
      "text/plain": [
       "Index(['Loan_ID', 'Gender', 'Married', 'Dependents', 'Education',\n",
       "       'Self_Employed', 'ApplicantIncome', 'CoapplicantIncome', 'LoanAmount',\n",
       "       'Loan_Amount_Term', 'Credit_History', 'Property_Area', 'Loan_Status'],\n",
       "      dtype='object')"
      ]
     },
     "execution_count": 5,
     "metadata": {},
     "output_type": "execute_result"
    }
   ],
   "source": [
    "data.columns"
   ]
  },
  {
   "cell_type": "code",
   "execution_count": 6,
   "id": "26774a2d",
   "metadata": {},
   "outputs": [
    {
     "data": {
      "text/plain": [
       "614"
      ]
     },
     "execution_count": 6,
     "metadata": {},
     "output_type": "execute_result"
    }
   ],
   "source": [
    "# nunique() = it used to count the number of unique values in a DataFrame.\n",
    "# It can be used to count the number of unique values in a single column or in multiple columns .\n",
    "\n",
    "data['Loan_ID'].nunique()"
   ]
  },
  {
   "cell_type": "markdown",
   "id": "119ed377",
   "metadata": {},
   "source": [
    "---------------\n",
    "- **Drop unimportant features as per feature selection (Filter Method)**"
   ]
  },
  {
   "cell_type": "code",
   "execution_count": 7,
   "id": "2246a4bc",
   "metadata": {},
   "outputs": [],
   "source": [
    "# here Loan_ID is useless for train ML.\n",
    "\n",
    "data.drop(columns = ['Loan_ID'],inplace=True)"
   ]
  },
  {
   "cell_type": "markdown",
   "id": "14e51f8f",
   "metadata": {},
   "source": [
    "-------------------"
   ]
  },
  {
   "cell_type": "code",
   "execution_count": 8,
   "id": "7b9890e5",
   "metadata": {},
   "outputs": [
    {
     "data": {
      "text/plain": [
       "array(['Male', 'Female', nan], dtype=object)"
      ]
     },
     "execution_count": 8,
     "metadata": {},
     "output_type": "execute_result"
    }
   ],
   "source": [
    "data[\"Gender\"].unique() #Discrete categorical"
   ]
  },
  {
   "cell_type": "code",
   "execution_count": 9,
   "id": "ca0b0cfa",
   "metadata": {},
   "outputs": [
    {
     "data": {
      "text/plain": [
       "Gender\n",
       "Male      489\n",
       "Female    112\n",
       "Name: count, dtype: int64"
      ]
     },
     "execution_count": 9,
     "metadata": {},
     "output_type": "execute_result"
    }
   ],
   "source": [
    "data[\"Gender\"].value_counts()"
   ]
  },
  {
   "cell_type": "code",
   "execution_count": 10,
   "id": "e16390d2",
   "metadata": {},
   "outputs": [
    {
     "data": {
      "text/plain": [
       "array(['No', 'Yes', nan], dtype=object)"
      ]
     },
     "execution_count": 10,
     "metadata": {},
     "output_type": "execute_result"
    }
   ],
   "source": [
    "data[\"Married\"].unique() #Discrete categorical"
   ]
  },
  {
   "cell_type": "code",
   "execution_count": 11,
   "id": "413938fa",
   "metadata": {},
   "outputs": [
    {
     "data": {
      "text/plain": [
       "Married\n",
       "Yes    398\n",
       "No     213\n",
       "Name: count, dtype: int64"
      ]
     },
     "execution_count": 11,
     "metadata": {},
     "output_type": "execute_result"
    }
   ],
   "source": [
    "data[\"Married\"].value_counts()"
   ]
  },
  {
   "cell_type": "code",
   "execution_count": 12,
   "id": "63827418",
   "metadata": {},
   "outputs": [
    {
     "data": {
      "text/plain": [
       "array(['0', '1', '2', '3+', nan], dtype=object)"
      ]
     },
     "execution_count": 12,
     "metadata": {},
     "output_type": "execute_result"
    }
   ],
   "source": [
    "data[\"Dependents\"].unique() #Discrete count"
   ]
  },
  {
   "cell_type": "code",
   "execution_count": 13,
   "id": "497f6e70",
   "metadata": {},
   "outputs": [
    {
     "data": {
      "text/plain": [
       "Dependents\n",
       "0     345\n",
       "1     102\n",
       "2     101\n",
       "3+     51\n",
       "Name: count, dtype: int64"
      ]
     },
     "execution_count": 13,
     "metadata": {},
     "output_type": "execute_result"
    }
   ],
   "source": [
    "data[\"Dependents\"].value_counts()"
   ]
  },
  {
   "cell_type": "code",
   "execution_count": 14,
   "id": "e1a0d527",
   "metadata": {},
   "outputs": [
    {
     "data": {
      "text/plain": [
       "array(['Graduate', 'Not Graduate'], dtype=object)"
      ]
     },
     "execution_count": 14,
     "metadata": {},
     "output_type": "execute_result"
    }
   ],
   "source": [
    "data[\"Education\"].unique() #Discrete categorical"
   ]
  },
  {
   "cell_type": "code",
   "execution_count": 15,
   "id": "08a78105",
   "metadata": {},
   "outputs": [
    {
     "data": {
      "text/plain": [
       "Education\n",
       "Graduate        480\n",
       "Not Graduate    134\n",
       "Name: count, dtype: int64"
      ]
     },
     "execution_count": 15,
     "metadata": {},
     "output_type": "execute_result"
    }
   ],
   "source": [
    "data[\"Education\"].value_counts()"
   ]
  },
  {
   "cell_type": "code",
   "execution_count": 16,
   "id": "36f12a84",
   "metadata": {},
   "outputs": [
    {
     "data": {
      "text/plain": [
       "array(['No', 'Yes', nan], dtype=object)"
      ]
     },
     "execution_count": 16,
     "metadata": {},
     "output_type": "execute_result"
    }
   ],
   "source": [
    "data[\"Self_Employed\"].unique() #Discrete categorical"
   ]
  },
  {
   "cell_type": "code",
   "execution_count": 17,
   "id": "e7dec4ae",
   "metadata": {},
   "outputs": [
    {
     "data": {
      "text/plain": [
       "Self_Employed\n",
       "No     500\n",
       "Yes     82\n",
       "Name: count, dtype: int64"
      ]
     },
     "execution_count": 17,
     "metadata": {},
     "output_type": "execute_result"
    }
   ],
   "source": [
    "data['Self_Employed'].value_counts()"
   ]
  },
  {
   "cell_type": "code",
   "execution_count": 18,
   "id": "4a3b9f2c",
   "metadata": {},
   "outputs": [
    {
     "data": {
      "text/plain": [
       "505"
      ]
     },
     "execution_count": 18,
     "metadata": {},
     "output_type": "execute_result"
    }
   ],
   "source": [
    "data['ApplicantIncome'].nunique() # continous variable"
   ]
  },
  {
   "cell_type": "code",
   "execution_count": 19,
   "id": "f148f3da",
   "metadata": {},
   "outputs": [
    {
     "data": {
      "text/plain": [
       "287"
      ]
     },
     "execution_count": 19,
     "metadata": {},
     "output_type": "execute_result"
    }
   ],
   "source": [
    "data['CoapplicantIncome'].nunique() # continous variable"
   ]
  },
  {
   "cell_type": "markdown",
   "id": "b1b7120c",
   "metadata": {},
   "source": [
    "----------\n",
    "- **Create new column as per requirments**\n"
   ]
  },
  {
   "cell_type": "code",
   "execution_count": 20,
   "id": "ff20ef23",
   "metadata": {},
   "outputs": [],
   "source": [
    "data['Income'] = data['ApplicantIncome'] + data['CoapplicantIncome']\n",
    "\n",
    "data.drop(columns=['ApplicantIncome','CoapplicantIncome'],inplace=True)"
   ]
  },
  {
   "cell_type": "markdown",
   "id": "83eec62b",
   "metadata": {},
   "source": [
    "-------------------"
   ]
  },
  {
   "cell_type": "code",
   "execution_count": 21,
   "id": "680df3a0",
   "metadata": {},
   "outputs": [
    {
     "data": {
      "text/plain": [
       "203"
      ]
     },
     "execution_count": 21,
     "metadata": {},
     "output_type": "execute_result"
    }
   ],
   "source": [
    "data[\"LoanAmount\"].nunique()  # continous variable"
   ]
  },
  {
   "cell_type": "code",
   "execution_count": 22,
   "id": "d48ba3bb",
   "metadata": {},
   "outputs": [
    {
     "data": {
      "text/plain": [
       "array([360., 120., 240.,  nan, 180.,  60., 300., 480.,  36.,  84.,  12.])"
      ]
     },
     "execution_count": 22,
     "metadata": {},
     "output_type": "execute_result"
    }
   ],
   "source": [
    "data[\"Loan_Amount_Term\"].unique() # discrete count"
   ]
  },
  {
   "cell_type": "code",
   "execution_count": 23,
   "id": "44363af0",
   "metadata": {},
   "outputs": [
    {
     "data": {
      "text/plain": [
       "Loan_Amount_Term\n",
       "360.0    512\n",
       "180.0     44\n",
       "480.0     15\n",
       "300.0     13\n",
       "240.0      4\n",
       "84.0       4\n",
       "120.0      3\n",
       "60.0       2\n",
       "36.0       2\n",
       "12.0       1\n",
       "Name: count, dtype: int64"
      ]
     },
     "execution_count": 23,
     "metadata": {},
     "output_type": "execute_result"
    }
   ],
   "source": [
    "data[\"Loan_Amount_Term\"].value_counts() "
   ]
  },
  {
   "cell_type": "code",
   "execution_count": 24,
   "id": "d1451c2c",
   "metadata": {},
   "outputs": [
    {
     "data": {
      "text/plain": [
       "array([ 1.,  0., nan])"
      ]
     },
     "execution_count": 24,
     "metadata": {},
     "output_type": "execute_result"
    }
   ],
   "source": [
    "data[\"Credit_History\"].unique() # discrete categorical"
   ]
  },
  {
   "cell_type": "markdown",
   "id": "eb0a362c",
   "metadata": {},
   "source": [
    "---------------\n",
    "- **for better clarity -> replace 0 with bad and 1 with good ( Alphabatical order) for better data understanding**"
   ]
  },
  {
   "cell_type": "code",
   "execution_count": 25,
   "id": "cd79c638",
   "metadata": {},
   "outputs": [],
   "source": [
    "# here Credit_Hitory means good or bad.\n",
    "\n",
    "data['Credit_History'] = data['Credit_History'].replace({0:\"bad\",1:\"good\"})"
   ]
  },
  {
   "cell_type": "markdown",
   "id": "6cf5fec0",
   "metadata": {},
   "source": [
    "-------------"
   ]
  },
  {
   "cell_type": "code",
   "execution_count": 26,
   "id": "501611ab",
   "metadata": {},
   "outputs": [
    {
     "data": {
      "text/plain": [
       "array(['good', 'bad', nan], dtype=object)"
      ]
     },
     "execution_count": 26,
     "metadata": {},
     "output_type": "execute_result"
    }
   ],
   "source": [
    "data['Credit_History'].unique()"
   ]
  },
  {
   "cell_type": "code",
   "execution_count": 27,
   "id": "f007981f",
   "metadata": {},
   "outputs": [
    {
     "data": {
      "text/plain": [
       "Credit_History\n",
       "good    475\n",
       "bad      89\n",
       "Name: count, dtype: int64"
      ]
     },
     "execution_count": 27,
     "metadata": {},
     "output_type": "execute_result"
    }
   ],
   "source": [
    "data['Credit_History'].value_counts()"
   ]
  },
  {
   "cell_type": "code",
   "execution_count": 28,
   "id": "0e6e533f",
   "metadata": {},
   "outputs": [
    {
     "data": {
      "text/plain": [
       "array(['Urban', 'Rural', 'Semiurban'], dtype=object)"
      ]
     },
     "execution_count": 28,
     "metadata": {},
     "output_type": "execute_result"
    }
   ],
   "source": [
    "data[\"Property_Area\"].unique() #discrete categorical"
   ]
  },
  {
   "cell_type": "code",
   "execution_count": 29,
   "id": "17ef1fd7",
   "metadata": {},
   "outputs": [
    {
     "data": {
      "text/plain": [
       "Property_Area\n",
       "Semiurban    233\n",
       "Urban        202\n",
       "Rural        179\n",
       "Name: count, dtype: int64"
      ]
     },
     "execution_count": 29,
     "metadata": {},
     "output_type": "execute_result"
    }
   ],
   "source": [
    "data[\"Property_Area\"].value_counts()"
   ]
  },
  {
   "cell_type": "code",
   "execution_count": 30,
   "id": "091a49b5",
   "metadata": {},
   "outputs": [
    {
     "data": {
      "text/plain": [
       "array(['Y', 'N'], dtype=object)"
      ]
     },
     "execution_count": 30,
     "metadata": {},
     "output_type": "execute_result"
    }
   ],
   "source": [
    "data[\"Loan_Status\"].unique()  #discrete categorical"
   ]
  },
  {
   "cell_type": "code",
   "execution_count": 31,
   "id": "c78f3e2c",
   "metadata": {},
   "outputs": [
    {
     "data": {
      "text/plain": [
       "Loan_Status\n",
       "Y    422\n",
       "N    192\n",
       "Name: count, dtype: int64"
      ]
     },
     "execution_count": 31,
     "metadata": {},
     "output_type": "execute_result"
    }
   ],
   "source": [
    "data[\"Loan_Status\"].value_counts()"
   ]
  },
  {
   "cell_type": "markdown",
   "id": "95afdda0",
   "metadata": {},
   "source": [
    "- **By above procedure we understood each variable and we will categorize them as following.**"
   ]
  },
  {
   "cell_type": "code",
   "execution_count": 35,
   "id": "998b5093",
   "metadata": {},
   "outputs": [],
   "source": [
    "continous = ['Income','LoanAmount']\n",
    "\n",
    "discrete_categorical = ['Gender','Married','Education',\n",
    "                        'Self_Employed','Credit_History',\n",
    "                        'Property_Area','Loan_Status']\n",
    "\n",
    "discrete_count = ['Dependents','Loan_Amount_Term']"
   ]
  },
  {
   "cell_type": "markdown",
   "id": "4b6b051a",
   "metadata": {},
   "source": [
    "## 2.1    Exploratory Data Analysis (EDA)"
   ]
  },
  {
   "cell_type": "markdown",
   "id": "94789d91",
   "metadata": {},
   "source": [
    "### For continous variables"
   ]
  },
  {
   "cell_type": "code",
   "execution_count": 36,
   "id": "9251fc73",
   "metadata": {},
   "outputs": [
    {
     "data": {
      "text/html": [
       "<div>\n",
       "<style scoped>\n",
       "    .dataframe tbody tr th:only-of-type {\n",
       "        vertical-align: middle;\n",
       "    }\n",
       "\n",
       "    .dataframe tbody tr th {\n",
       "        vertical-align: top;\n",
       "    }\n",
       "\n",
       "    .dataframe thead th {\n",
       "        text-align: right;\n",
       "    }\n",
       "</style>\n",
       "<table border=\"1\" class=\"dataframe\">\n",
       "  <thead>\n",
       "    <tr style=\"text-align: right;\">\n",
       "      <th></th>\n",
       "      <th>Income</th>\n",
       "      <th>LoanAmount</th>\n",
       "    </tr>\n",
       "  </thead>\n",
       "  <tbody>\n",
       "    <tr>\n",
       "      <th>count</th>\n",
       "      <td>614.000000</td>\n",
       "      <td>592.000000</td>\n",
       "    </tr>\n",
       "    <tr>\n",
       "      <th>mean</th>\n",
       "      <td>7024.705081</td>\n",
       "      <td>146.412162</td>\n",
       "    </tr>\n",
       "    <tr>\n",
       "      <th>std</th>\n",
       "      <td>6458.663872</td>\n",
       "      <td>85.587325</td>\n",
       "    </tr>\n",
       "    <tr>\n",
       "      <th>min</th>\n",
       "      <td>1442.000000</td>\n",
       "      <td>9.000000</td>\n",
       "    </tr>\n",
       "    <tr>\n",
       "      <th>25%</th>\n",
       "      <td>4166.000000</td>\n",
       "      <td>100.000000</td>\n",
       "    </tr>\n",
       "    <tr>\n",
       "      <th>50%</th>\n",
       "      <td>5416.500000</td>\n",
       "      <td>128.000000</td>\n",
       "    </tr>\n",
       "    <tr>\n",
       "      <th>75%</th>\n",
       "      <td>7521.750000</td>\n",
       "      <td>168.000000</td>\n",
       "    </tr>\n",
       "    <tr>\n",
       "      <th>max</th>\n",
       "      <td>81000.000000</td>\n",
       "      <td>700.000000</td>\n",
       "    </tr>\n",
       "  </tbody>\n",
       "</table>\n",
       "</div>"
      ],
      "text/plain": [
       "             Income  LoanAmount\n",
       "count    614.000000  592.000000\n",
       "mean    7024.705081  146.412162\n",
       "std     6458.663872   85.587325\n",
       "min     1442.000000    9.000000\n",
       "25%     4166.000000  100.000000\n",
       "50%     5416.500000  128.000000\n",
       "75%     7521.750000  168.000000\n",
       "max    81000.000000  700.000000"
      ]
     },
     "execution_count": 36,
     "metadata": {},
     "output_type": "execute_result"
    }
   ],
   "source": [
    "data[continous].describe()"
   ]
  },
  {
   "cell_type": "markdown",
   "id": "35000ce0",
   "metadata": {},
   "source": [
    "### 2.1.1  Univariate Analysis\n",
    "- **Analysis by Histogram with KDE plot**- \n",
    "\n",
    "    - A histogram is a graphical representation of the distribution of data. It is a type of bar chart that shows the number of data points that fall within a specified range of values. Histograms are often used to visualize continuous data, which is data that can take on any value within a certain range.\n",
    "    - Histograms are useful for continuous data because they can help to identify patterns and trends in the data. For example, a histogram can show whether the data is normally distributed, skewed to the left or right, or has any outliers. Histograms can also be used to compare two or more sets of data."
   ]
  },
  {
   "cell_type": "code",
   "execution_count": 38,
   "id": "77790173",
   "metadata": {},
   "outputs": [
    {
     "data": {
      "image/png": "[encoded data removed]",
      "text/plain": [
       "<Figure size 1800x800 with 2 Axes>"
      ]
     },
     "metadata": {},
     "output_type": "display_data"
    }
   ],
   "source": [
    "plt.rcParams['figure.figsize'] = (18,8)\n",
    "# The plt.rcparams['figure.figsize']=(18,8) statement in Python sets the default size of all figures created with Matplotlib to 18 inches wide and 8 inches high. This can be useful if you want to create large figures that are easy to read and understand.\n",
    "\n",
    "plt.subplot(1,2,1) # subplot with ( row=1 , col=2 , subplot=1 )\n",
    "sns.histplot(data['Income'],kde=True)\n",
    "\n",
    "plt.subplot(1,2,2) # subplot with ( row=1 , col=2 , subplot=2 )\n",
    "sns.histplot(data['LoanAmount'],kde=True)\n",
    "\n",
    "plt.suptitle(\"Univariate Analysis on Numerical columns\")\n",
    "plt.show()"
   ]
  },
  {
   "cell_type": "markdown",
   "id": "d6aa5c9a",
   "metadata": {},
   "source": [
    "### 2.1.2 Multivariate Analysis\n",
    "- **Analysis by pairplot**\n",
    "     - A pairs plot allows us to see both distribution of single variables and relationships between two variables ."
   ]
  },
  {
   "cell_type": "code",
   "execution_count": 40,
   "id": "e3c00ed2",
   "metadata": {},
   "outputs": [
    {
     "data": {
      "image/png": "[encoded data removed]",
      "text/plain": [
       "<Figure size 500x500 with 6 Axes>"
      ]
     },
     "metadata": {},
     "output_type": "display_data"
    }
   ],
   "source": [
    "sns.pairplot(data[continous])\n",
    "plt.show()"
   ]
  },
  {
   "attachments": {
    "Meaning-of-Pearson-correlation-coefficient-value-r.png": {
     "image/png": "[encoded data removed]"
    }
   },
   "cell_type": "markdown",
   "id": "632e1646",
   "metadata": {},
   "source": [
    "- **Check for any colinearity problem**\n",
    "    - Collinearity refers to a situation where two or more variables are closely related to one another.\n",
    "![Meaning-of-Pearson-correlation-coefficient-value-r.png](attachment:Meaning-of-Pearson-correlation-coefficient-value-r.png)"
   ]
  },
  {
   "cell_type": "code",
   "execution_count": 41,
   "id": "4be7a932",
   "metadata": {},
   "outputs": [
    {
     "data": {
      "image/png": "[encoded data removed]",
      "text/plain": [
       "<Figure size 1800x800 with 2 Axes>"
      ]
     },
     "metadata": {},
     "output_type": "display_data"
    }
   ],
   "source": [
    "sns.heatmap(data[continous].corr(),annot=True)\n",
    "plt.show()\n",
    "\n",
    "# we can see no colinearity problem is present among continous variables"
   ]
  },
  {
   "cell_type": "markdown",
   "id": "04d57cc6",
   "metadata": {},
   "source": [
    "###  For Discrete variables"
   ]
  },
  {
   "cell_type": "code",
   "execution_count": null,
   "id": "ffbf4317",
   "metadata": {},
   "outputs": [],
   "source": [
    "data[discrete_categorical].describe()"
   ]
  },
  {
   "cell_type": "code",
   "execution_count": 42,
   "id": "383ac2c5",
   "metadata": {},
   "outputs": [
    {
     "data": {
      "image/png": "[encoded data removed]",
      "text/plain": [
       "<Figure size 1800x800 with 6 Axes>"
      ]
     },
     "metadata": {},
     "output_type": "display_data"
    }
   ],
   "source": [
    "plt.rcParams['figure.figsize'] = (18,8)\n",
    "\n",
    "plt.subplot(2,3,1)\n",
    "sns.countplot(data['Gender'])\n",
    "\n",
    "plt.subplot(2,3,2)\n",
    "sns.countplot(data['Married'])\n",
    "\n",
    "plt.subplot(2,3,3)\n",
    "sns.countplot(data['Self_Employed'])\n",
    "\n",
    "plt.subplot(2,3,4)\n",
    "sns.countplot(data['Property_Area'])\n",
    "\n",
    "plt.subplot(2,3,5)\n",
    "sns.countplot(data['Education'])\n",
    "\n",
    "plt.subplot(2,3,6)\n",
    "sns.countplot(data['Loan_Status'])\n",
    "\n",
    "plt.suptitle('Univariate Analysis on Categorical variables')\n",
    "plt.show()"
   ]
  },
  {
   "cell_type": "markdown",
   "id": "f9506c9d",
   "metadata": {},
   "source": [
    "### 2.1.3 Check for the skewness"
   ]
  },
  {
   "cell_type": "code",
   "execution_count": 46,
   "id": "699ee5d7",
   "metadata": {},
   "outputs": [
    {
     "data": {
      "text/plain": [
       "Income        5.633449\n",
       "LoanAmount    2.677552\n",
       "dtype: float64"
      ]
     },
     "execution_count": 46,
     "metadata": {},
     "output_type": "execute_result"
    }
   ],
   "source": [
    "data[continous].skew()\n",
    "\n",
    "# skewness is very high"
   ]
  },
  {
   "cell_type": "markdown",
   "id": "e85ae9d8",
   "metadata": {},
   "source": [
    "### 2.1.4 lets check the outliers - \n",
    "- **Boxplot**: Box plots show the median, upper and lower quartiles, minimum and maximum values, and any outliers in the dataset. Outliers can reveal mistakes or unusual occurrences in data."
   ]
  },
  {
   "cell_type": "code",
   "execution_count": 44,
   "id": "fc2e5b97",
   "metadata": {},
   "outputs": [
    {
     "data": {
      "image/png": "[encoded data removed]",
      "text/plain": [
       "<Figure size 1800x800 with 2 Axes>"
      ]
     },
     "metadata": {},
     "output_type": "display_data"
    }
   ],
   "source": [
    "plt.subplot(1,2,1)\n",
    "sns.boxplot(data['Income'])\n",
    "\n",
    "plt.subplot(1,2,2)\n",
    "sns.boxplot(data['LoanAmount'])\n",
    "\n",
    "plt.suptitle('Outliers in Data')\n",
    "plt.show()"
   ]
  },
  {
   "cell_type": "markdown",
   "id": "432b3acc",
   "metadata": {},
   "source": [
    "### 2.1.5 Check wheather the variable is  discrete nominal data or not."
   ]
  },
  {
   "cell_type": "markdown",
   "id": "96f9d93b",
   "metadata": {},
   "source": [
    "-  **all the coulmns are nominal data except \"Property_Area\"**"
   ]
  },
  {
   "cell_type": "markdown",
   "id": "221b0dac",
   "metadata": {},
   "source": [
    "### 2.1.5 Check wheather the variable is  discrete Ordinal data or not."
   ]
  },
  {
   "cell_type": "markdown",
   "id": "a61c2694",
   "metadata": {},
   "source": [
    "- only **df  [\"Property_Area]**\n",
    "-----------------------"
   ]
  },
  {
   "cell_type": "markdown",
   "id": "2a3519bd",
   "metadata": {},
   "source": [
    "---------------------------------\n",
    "# 3. Data Preprocessing \n",
    "- It includes :\n",
    "    - **Data Cleaning**\n",
    "    - **Data Wrangling**"
   ]
  },
  {
   "cell_type": "markdown",
   "id": "2aa96afe",
   "metadata": {},
   "source": [
    "### 3.1  Modifying the Wrong Data"
   ]
  },
  {
   "cell_type": "code",
   "execution_count": 51,
   "id": "6b8cc3a7",
   "metadata": {},
   "outputs": [],
   "source": [
    "data['Dependents'] = data['Dependents'].replace({'3+':3})"
   ]
  },
  {
   "cell_type": "code",
   "execution_count": 52,
   "id": "c73be2aa",
   "metadata": {},
   "outputs": [
    {
     "data": {
      "text/plain": [
       "array(['0', '1', '2', 3, nan], dtype=object)"
      ]
     },
     "execution_count": 52,
     "metadata": {},
     "output_type": "execute_result"
    }
   ],
   "source": [
    "data['Dependents'].unique()\n",
    "\n",
    "# this column is of object data type which is in wrong format , count variable shouldnot be in object type , it should be of int type only.\n",
    "# we have to modify the data type after this stage."
   ]
  },
  {
   "cell_type": "markdown",
   "id": "caa0a8ac",
   "metadata": {},
   "source": [
    "\n",
    "- it gives error as missing value is present and (NaN) cant be converted to int type.\n",
    "-  we have to treate the missing values , then apply (astype=int) function"
   ]
  },
  {
   "cell_type": "markdown",
   "id": "79bc81d8",
   "metadata": {},
   "source": [
    "### 3.2  Missing value Treatement"
   ]
  },
  {
   "cell_type": "code",
   "execution_count": 53,
   "id": "05b8f81b",
   "metadata": {},
   "outputs": [
    {
     "data": {
      "text/plain": [
       "Gender              13\n",
       "Married              3\n",
       "Dependents          15\n",
       "Education            0\n",
       "Self_Employed       32\n",
       "LoanAmount          22\n",
       "Loan_Amount_Term    14\n",
       "Credit_History      50\n",
       "Property_Area        0\n",
       "Loan_Status          0\n",
       "Income               0\n",
       "dtype: int64"
      ]
     },
     "execution_count": 53,
     "metadata": {},
     "output_type": "execute_result"
    }
   ],
   "source": [
    "data.isnull().sum()"
   ]
  },
  {
   "cell_type": "code",
   "execution_count": 54,
   "id": "88674f17",
   "metadata": {},
   "outputs": [
    {
     "data": {
      "text/plain": [
       "Gender              2.117264\n",
       "Married             0.488599\n",
       "Dependents          2.442997\n",
       "Education           0.000000\n",
       "Self_Employed       5.211726\n",
       "LoanAmount          3.583062\n",
       "Loan_Amount_Term    2.280130\n",
       "Credit_History      8.143322\n",
       "Property_Area       0.000000\n",
       "Loan_Status         0.000000\n",
       "Income              0.000000\n",
       "dtype: float64"
      ]
     },
     "execution_count": 54,
     "metadata": {},
     "output_type": "execute_result"
    }
   ],
   "source": [
    "# checking the percentage of Missing Values\n",
    "\n",
    "data.isnull().sum() / len(data) * 100"
   ]
  },
  {
   "cell_type": "markdown",
   "id": "abefe5e0",
   "metadata": {},
   "source": [
    "----------------\n",
    "- **Continous variable**\n",
    "    - here we will drop the missing values becoz we can't replace with mean,mode or any arbitary becoz these are the most important criterias of giving the loans.\n",
    "    - Credit_History will not be available means loan will not be given .\n",
    "    - \"Income\",\"LoanAmount\",\"Loan_Amount_Term\",\"Credit_History\" like this any columns of these types should be filled with orginal values , if there is any missing values.\n",
    "    ----------------"
   ]
  },
  {
   "cell_type": "code",
   "execution_count": 62,
   "id": "32d75a22",
   "metadata": {},
   "outputs": [],
   "source": [
    "data = data.dropna(subset=[\"Income\",\"LoanAmount\",\"Loan_Amount_Term\",\"Credit_History\"])"
   ]
  },
  {
   "cell_type": "markdown",
   "id": "00dbe55e",
   "metadata": {},
   "source": [
    "-----------------\n",
    "- **Count variable replace with ' 0 '**\n",
    "----------------"
   ]
  },
  {
   "cell_type": "code",
   "execution_count": 63,
   "id": "95418150",
   "metadata": {},
   "outputs": [],
   "source": [
    "# becoz if there is no dependent we will asume no. of dependence = 0\n",
    "data['Dependents'] = data['Dependents'].fillna(0)"
   ]
  },
  {
   "cell_type": "markdown",
   "id": "7207af0e",
   "metadata": {},
   "source": [
    "-------------\n",
    "- **Discrete Categorical values replace with ' mode '**\n",
    "------------"
   ]
  },
  {
   "cell_type": "code",
   "execution_count": 64,
   "id": "16f8dcd0",
   "metadata": {},
   "outputs": [],
   "source": [
    "data['Gender'] = data['Gender'].fillna(data['Gender'].mode()[0])\n",
    "\n",
    "data['Married'] = data['Married'].fillna(data['Married'].mode()[0])\n",
    "\n",
    "data['Self_Employed'] = data['Self_Employed'].fillna(data['Self_Employed'].mode()[0])"
   ]
  },
  {
   "cell_type": "code",
   "execution_count": 65,
   "id": "d4d6f882",
   "metadata": {},
   "outputs": [
    {
     "data": {
      "text/plain": [
       "Gender              0\n",
       "Married             0\n",
       "Dependents          0\n",
       "Education           0\n",
       "Self_Employed       0\n",
       "LoanAmount          0\n",
       "Loan_Amount_Term    0\n",
       "Credit_History      0\n",
       "Property_Area       0\n",
       "Loan_Status         0\n",
       "Income              0\n",
       "dtype: int64"
      ]
     },
     "execution_count": 65,
     "metadata": {},
     "output_type": "execute_result"
    }
   ],
   "source": [
    "data.isnull().sum()"
   ]
  },
  {
   "cell_type": "markdown",
   "id": "a8744b12",
   "metadata": {},
   "source": [
    "- Now the missing values are cleaned."
   ]
  },
  {
   "cell_type": "markdown",
   "id": "90de5286",
   "metadata": {},
   "source": [
    "### 3.3 Outliers Treatement"
   ]
  },
  {
   "cell_type": "markdown",
   "id": "36c5eb97",
   "metadata": {},
   "source": [
    "-  we will Retrain the outliers becoz in this business problem we shave to consider all the factors . \n",
    "-  ex: high amount of salary means higher the loan amount the person can get .\n",
    " -  so we will retrain the outliers."
   ]
  },
  {
   "cell_type": "markdown",
   "id": "f3e0f57b",
   "metadata": {},
   "source": [
    "### 3.4 Encoding"
   ]
  },
  {
   "cell_type": "code",
   "execution_count": 66,
   "id": "a9ce3aff",
   "metadata": {},
   "outputs": [],
   "source": [
    "data['Gender'] =         data[\"Gender\"].replace({'Male':1,\"Female\":0})\n",
    "data['Married'] =        data['Married'].replace({'Yes':1,'No':0})\n",
    "data['Education'] =      data['Education'].replace({'Graduate':1,'Not Graduate':0})\n",
    "data['Self_Employed'] =  data['Self_Employed'].replace({'Yes':1,'No':0})\n",
    "data['Property_Area'] =  data['Property_Area'].replace({'Rural':0,'Semiurban':1,'Urban':2})\n",
    "data['Credit_History'] = data['Credit_History'].replace({'good':1,'bad':0})\n",
    "data['Loan_Status'] =    data['Loan_Status'].replace({'Y':1,'N':0})"
   ]
  },
  {
   "cell_type": "markdown",
   "id": "d3cf10d0",
   "metadata": {},
   "source": [
    "### 3.5 DataType Conversion\n"
   ]
  },
  {
   "cell_type": "code",
   "execution_count": null,
   "id": "4e8c37d0",
   "metadata": {},
   "outputs": [],
   "source": [
    "data['Dependents']       = data[\"Dependents\"].astype('int')\n",
    "data['Loan_Amount_Term'] = data['Loan_Amount_Term'].astype('int')"
   ]
  },
  {
   "cell_type": "markdown",
   "id": "6243425c",
   "metadata": {},
   "source": [
    "### 3.6 Transformations\n"
   ]
  },
  {
   "cell_type": "code",
   "execution_count": 67,
   "id": "be536ec7",
   "metadata": {},
   "outputs": [
    {
     "data": {
      "text/plain": [
       "Income        5.777628\n",
       "LoanAmount    2.607945\n",
       "dtype: float64"
      ]
     },
     "execution_count": 67,
     "metadata": {},
     "output_type": "execute_result"
    }
   ],
   "source": [
    "data[['Income','LoanAmount']].skew()"
   ]
  },
  {
   "cell_type": "markdown",
   "id": "eebbf12a",
   "metadata": {},
   "source": [
    "- we will apply boxcox transformation to convert skewed data to normaly distributed data.\n",
    "- **The Box-Cox transformation** is a statistical technique that transforms non-normal dependent variables into a normal shape."
   ]
  },
  {
   "cell_type": "code",
   "execution_count": 68,
   "id": "151d0d0c",
   "metadata": {},
   "outputs": [],
   "source": [
    "from scipy.stats import boxcox\n",
    "data['Income'],a = boxcox(data['Income'])\n",
    "data['LoanAmount'],c = boxcox(data['LoanAmount'])"
   ]
  },
  {
   "cell_type": "code",
   "execution_count": 70,
   "id": "3c6d2724",
   "metadata": {},
   "outputs": [
    {
     "data": {
      "text/plain": [
       "Income       -0.027769\n",
       "LoanAmount    0.038289\n",
       "dtype: float64"
      ]
     },
     "execution_count": 70,
     "metadata": {},
     "output_type": "execute_result"
    }
   ],
   "source": [
    "data[['Income','LoanAmount']].skew()\n",
    "\n",
    "# after applying boxcox transformation , now the data is converted to nomraly distribued"
   ]
  },
  {
   "cell_type": "code",
   "execution_count": 71,
   "id": "4d9483ab",
   "metadata": {},
   "outputs": [],
   "source": [
    "data['Loan_Amount_Term'] = data['Loan_Amount_Term'] / 12"
   ]
  },
  {
   "cell_type": "markdown",
   "id": "fafccb5a",
   "metadata": {},
   "source": [
    "------------\n",
    "## Train | Test Split\n",
    "----------"
   ]
  },
  {
   "cell_type": "code",
   "execution_count": 72,
   "id": "32ae071e",
   "metadata": {},
   "outputs": [],
   "source": [
    "X= data.drop('Loan_Status',axis=1)\n",
    "y = data['Loan_Status']"
   ]
  },
  {
   "cell_type": "code",
   "execution_count": 73,
   "id": "905c7e7d",
   "metadata": {},
   "outputs": [],
   "source": [
    "from sklearn.model_selection import train_test_split\n",
    "X_train,X_test,y_train,y_test = train_test_split(X,y,test_size=0.2,random_state=True)"
   ]
  },
  {
   "cell_type": "markdown",
   "id": "6ad59ffa",
   "metadata": {},
   "source": [
    "--------------\n",
    "# 4 . Machine Learning Modeling & Evaluation\n",
    "-------------"
   ]
  },
  {
   "cell_type": "markdown",
   "id": "05a0d5f5",
   "metadata": {},
   "source": [
    "#### Import everything in oneshot"
   ]
  },
  {
   "cell_type": "code",
   "execution_count": 81,
   "id": "bdbf727f",
   "metadata": {},
   "outputs": [],
   "source": [
    "from sklearn.linear_model import LogisticRegression\n",
    "from sklearn.neighbors import KNeighborsClassifier\n",
    "from sklearn.svm import SVC\n",
    "from sklearn.tree import DecisionTreeClassifier\n",
    "from sklearn.ensemble import RandomForestClassifier\n",
    "from sklearn.ensemble import AdaBoostClassifier\n",
    "from sklearn.ensemble import GradientBoostingClassifier\n",
    "# from xgboost import XGBClassifier\n",
    "\n",
    "# commonly used for evry algorithm\n",
    "\n",
    "from sklearn.model_selection import GridSearchCV\n",
    "\n",
    "from sklearn.metrics import accuracy_score\n",
    "from sklearn.model_selection import cross_val_score"
   ]
  },
  {
   "cell_type": "markdown",
   "id": "790dc094",
   "metadata": {},
   "source": [
    "### 4.1 Logistic Regression "
   ]
  },
  {
   "cell_type": "code",
   "execution_count": 82,
   "id": "6939cd66",
   "metadata": {
    "scrolled": true
   },
   "outputs": [
    {
     "name": "stdout",
     "output_type": "stream",
     "text": [
      "Train Accuracy :  0.8085106382978723\n",
      "Test Accuracy :  0.839622641509434\n",
      "CV Score : 0.803781512605042\n"
     ]
    }
   ],
   "source": [
    "# modeling\n",
    "log_model = LogisticRegression()\n",
    "log_model.fit(X_train,y_train)\n",
    "\n",
    "#Evaluation\n",
    "ypred_train = log_model.predict(X_train)\n",
    "ypred_test = log_model.predict(X_test)\n",
    "\n",
    "print(\"Train Accuracy : \",accuracy_score(y_train,ypred_train))\n",
    "print(\"Test Accuracy : \",accuracy_score(y_test,ypred_test))\n",
    "print(\"CV Score :\",cross_val_score(log_model,X_train,y_train,cv=5).mean())"
   ]
  },
  {
   "cell_type": "markdown",
   "id": "f3d2e4da",
   "metadata": {},
   "source": []
  },
  {
   "cell_type": "markdown",
   "id": "78f8e0b1",
   "metadata": {},
   "source": [
    "### 4.2 KNN \n",
    "- Hyperparameter Tuning\n",
    "- Modeling and Evaluation"
   ]
  },
  {
   "cell_type": "code",
   "execution_count": 83,
   "id": "412d23b7",
   "metadata": {},
   "outputs": [
    {
     "data": {
      "text/html": [
       "<style>#sk-container-id-1 {color: black;}#sk-container-id-1 pre{padding: 0;}#sk-container-id-1 div.sk-toggleable {background-color: white;}#sk-container-id-1 label.sk-toggleable__label {cursor: pointer;display: block;width: 100%;margin-bottom: 0;padding: 0.3em;box-sizing: border-box;text-align: center;}#sk-container-id-1 label.sk-toggleable__label-arrow:before {content: \"▸\";float: left;margin-right: 0.25em;color: #696969;}#sk-container-id-1 label.sk-toggleable__label-arrow:hover:before {color: black;}#sk-container-id-1 div.sk-estimator:hover label.sk-toggleable__label-arrow:before {color: black;}#sk-container-id-1 div.sk-toggleable__content {max-height: 0;max-width: 0;overflow: hidden;text-align: left;background-color: #f0f8ff;}#sk-container-id-1 div.sk-toggleable__content pre {margin: 0.2em;color: black;border-radius: 0.25em;background-color: #f0f8ff;}#sk-container-id-1 input.sk-toggleable__control:checked~div.sk-toggleable__content {max-height: 200px;max-width: 100%;overflow: auto;}#sk-container-id-1 input.sk-toggleable__control:checked~label.sk-toggleable__label-arrow:before {content: \"▾\";}#sk-container-id-1 div.sk-estimator input.sk-toggleable__control:checked~label.sk-toggleable__label {background-color: #d4ebff;}#sk-container-id-1 div.sk-label input.sk-toggleable__control:checked~label.sk-toggleable__label {background-color: #d4ebff;}#sk-container-id-1 input.sk-hidden--visually {border: 0;clip: rect(1px 1px 1px 1px);clip: rect(1px, 1px, 1px, 1px);height: 1px;margin: -1px;overflow: hidden;padding: 0;position: absolute;width: 1px;}#sk-container-id-1 div.sk-estimator {font-family: monospace;background-color: #f0f8ff;border: 1px dotted black;border-radius: 0.25em;box-sizing: border-box;margin-bottom: 0.5em;}#sk-container-id-1 div.sk-estimator:hover {background-color: #d4ebff;}#sk-container-id-1 div.sk-parallel-item::after {content: \"\";width: 100%;border-bottom: 1px solid gray;flex-grow: 1;}#sk-container-id-1 div.sk-label:hover label.sk-toggleable__label {background-color: #d4ebff;}#sk-container-id-1 div.sk-serial::before {content: \"\";position: absolute;border-left: 1px solid gray;box-sizing: border-box;top: 0;bottom: 0;left: 50%;z-index: 0;}#sk-container-id-1 div.sk-serial {display: flex;flex-direction: column;align-items: center;background-color: white;padding-right: 0.2em;padding-left: 0.2em;position: relative;}#sk-container-id-1 div.sk-item {position: relative;z-index: 1;}#sk-container-id-1 div.sk-parallel {display: flex;align-items: stretch;justify-content: center;background-color: white;position: relative;}#sk-container-id-1 div.sk-item::before, #sk-container-id-1 div.sk-parallel-item::before {content: \"\";position: absolute;border-left: 1px solid gray;box-sizing: border-box;top: 0;bottom: 0;left: 50%;z-index: -1;}#sk-container-id-1 div.sk-parallel-item {display: flex;flex-direction: column;z-index: 1;position: relative;background-color: white;}#sk-container-id-1 div.sk-parallel-item:first-child::after {align-self: flex-end;width: 50%;}#sk-container-id-1 div.sk-parallel-item:last-child::after {align-self: flex-start;width: 50%;}#sk-container-id-1 div.sk-parallel-item:only-child::after {width: 0;}#sk-container-id-1 div.sk-dashed-wrapped {border: 1px dashed gray;margin: 0 0.4em 0.5em 0.4em;box-sizing: border-box;padding-bottom: 0.4em;background-color: white;}#sk-container-id-1 div.sk-label label {font-family: monospace;font-weight: bold;display: inline-block;line-height: 1.2em;}#sk-container-id-1 div.sk-label-container {text-align: center;}#sk-container-id-1 div.sk-container {/* jupyter's `normalize.less` sets `[hidden] { display: none; }` but bootstrap.min.css set `[hidden] { display: none !important; }` so we also need the `!important` here to be able to override the default hidden behavior on the sphinx rendered scikit-learn.org. See: https://github.com/scikit-learn/scikit-learn/issues/21755 */display: inline-block !important;position: relative;}#sk-container-id-1 div.sk-text-repr-fallback {display: none;}</style><div id=\"sk-container-id-1\" class=\"sk-top-container\"><div class=\"sk-text-repr-fallback\"><pre>KNeighborsClassifier(n_neighbors=10)</pre><b>In a Jupyter environment, please rerun this cell to show the HTML representation or trust the notebook. <br />On GitHub, the HTML representation is unable to render, please try loading this page with nbviewer.org.</b></div><div class=\"sk-container\" hidden><div class=\"sk-item\"><div class=\"sk-estimator sk-toggleable\"><input class=\"sk-toggleable__control sk-hidden--visually\" id=\"sk-estimator-id-1\" type=\"checkbox\" checked><label for=\"sk-estimator-id-1\" class=\"sk-toggleable__label sk-toggleable__label-arrow\">KNeighborsClassifier</label><div class=\"sk-toggleable__content\"><pre>KNeighborsClassifier(n_neighbors=10)</pre></div></div></div></div></div>"
      ],
      "text/plain": [
       "KNeighborsClassifier(n_neighbors=10)"
      ]
     },
     "execution_count": 83,
     "metadata": {},
     "output_type": "execute_result"
    }
   ],
   "source": [
    "# hyperparameter tuning\n",
    "estimator = KNeighborsClassifier()\n",
    "param_grid = {'n_neighbors':list(range(1,50))}\n",
    "\n",
    "\n",
    "knn_grid = GridSearchCV(estimator,param_grid,scoring='accuracy',cv=5)\n",
    "knn_grid.fit(X_train,y_train)\n",
    "knn_grid.best_estimator_"
   ]
  },
  {
   "cell_type": "code",
   "execution_count": 84,
   "id": "7da6f454",
   "metadata": {},
   "outputs": [
    {
     "name": "stdout",
     "output_type": "stream",
     "text": [
      "Train Accuracy :  0.7919621749408984\n",
      "Test Accuracy :  0.7264150943396226\n",
      "CV Score : 0.7446218487394958\n"
     ]
    }
   ],
   "source": [
    "knn_model = knn_grid.best_estimator_\n",
    "\n",
    "ypred_train = knn_model.predict(X_train)\n",
    "ypred_test = knn_model.predict(X_test)\n",
    "\n",
    "print(\"Train Accuracy : \",accuracy_score(y_train,ypred_train))\n",
    "print(\"Test Accuracy : \",accuracy_score(y_test,ypred_test))\n",
    "print(\"CV Score :\",cross_val_score(knn_model,X_train,y_train,cv=5).mean())"
   ]
  },
  {
   "cell_type": "markdown",
   "id": "6903dd6a",
   "metadata": {},
   "source": [
    "### 4.3 Support Vector Machine - SVM\n",
    "- HPT\n",
    "- Modeling and Evaluation"
   ]
  },
  {
   "cell_type": "code",
   "execution_count": 87,
   "id": "9e915aa1",
   "metadata": {},
   "outputs": [
    {
     "data": {
      "text/html": [
       "<style>#sk-container-id-3 {color: black;}#sk-container-id-3 pre{padding: 0;}#sk-container-id-3 div.sk-toggleable {background-color: white;}#sk-container-id-3 label.sk-toggleable__label {cursor: pointer;display: block;width: 100%;margin-bottom: 0;padding: 0.3em;box-sizing: border-box;text-align: center;}#sk-container-id-3 label.sk-toggleable__label-arrow:before {content: \"▸\";float: left;margin-right: 0.25em;color: #696969;}#sk-container-id-3 label.sk-toggleable__label-arrow:hover:before {color: black;}#sk-container-id-3 div.sk-estimator:hover label.sk-toggleable__label-arrow:before {color: black;}#sk-container-id-3 div.sk-toggleable__content {max-height: 0;max-width: 0;overflow: hidden;text-align: left;background-color: #f0f8ff;}#sk-container-id-3 div.sk-toggleable__content pre {margin: 0.2em;color: black;border-radius: 0.25em;background-color: #f0f8ff;}#sk-container-id-3 input.sk-toggleable__control:checked~div.sk-toggleable__content {max-height: 200px;max-width: 100%;overflow: auto;}#sk-container-id-3 input.sk-toggleable__control:checked~label.sk-toggleable__label-arrow:before {content: \"▾\";}#sk-container-id-3 div.sk-estimator input.sk-toggleable__control:checked~label.sk-toggleable__label {background-color: #d4ebff;}#sk-container-id-3 div.sk-label input.sk-toggleable__control:checked~label.sk-toggleable__label {background-color: #d4ebff;}#sk-container-id-3 input.sk-hidden--visually {border: 0;clip: rect(1px 1px 1px 1px);clip: rect(1px, 1px, 1px, 1px);height: 1px;margin: -1px;overflow: hidden;padding: 0;position: absolute;width: 1px;}#sk-container-id-3 div.sk-estimator {font-family: monospace;background-color: #f0f8ff;border: 1px dotted black;border-radius: 0.25em;box-sizing: border-box;margin-bottom: 0.5em;}#sk-container-id-3 div.sk-estimator:hover {background-color: #d4ebff;}#sk-container-id-3 div.sk-parallel-item::after {content: \"\";width: 100%;border-bottom: 1px solid gray;flex-grow: 1;}#sk-container-id-3 div.sk-label:hover label.sk-toggleable__label {background-color: #d4ebff;}#sk-container-id-3 div.sk-serial::before {content: \"\";position: absolute;border-left: 1px solid gray;box-sizing: border-box;top: 0;bottom: 0;left: 50%;z-index: 0;}#sk-container-id-3 div.sk-serial {display: flex;flex-direction: column;align-items: center;background-color: white;padding-right: 0.2em;padding-left: 0.2em;position: relative;}#sk-container-id-3 div.sk-item {position: relative;z-index: 1;}#sk-container-id-3 div.sk-parallel {display: flex;align-items: stretch;justify-content: center;background-color: white;position: relative;}#sk-container-id-3 div.sk-item::before, #sk-container-id-3 div.sk-parallel-item::before {content: \"\";position: absolute;border-left: 1px solid gray;box-sizing: border-box;top: 0;bottom: 0;left: 50%;z-index: -1;}#sk-container-id-3 div.sk-parallel-item {display: flex;flex-direction: column;z-index: 1;position: relative;background-color: white;}#sk-container-id-3 div.sk-parallel-item:first-child::after {align-self: flex-end;width: 50%;}#sk-container-id-3 div.sk-parallel-item:last-child::after {align-self: flex-start;width: 50%;}#sk-container-id-3 div.sk-parallel-item:only-child::after {width: 0;}#sk-container-id-3 div.sk-dashed-wrapped {border: 1px dashed gray;margin: 0 0.4em 0.5em 0.4em;box-sizing: border-box;padding-bottom: 0.4em;background-color: white;}#sk-container-id-3 div.sk-label label {font-family: monospace;font-weight: bold;display: inline-block;line-height: 1.2em;}#sk-container-id-3 div.sk-label-container {text-align: center;}#sk-container-id-3 div.sk-container {/* jupyter's `normalize.less` sets `[hidden] { display: none; }` but bootstrap.min.css set `[hidden] { display: none !important; }` so we also need the `!important` here to be able to override the default hidden behavior on the sphinx rendered scikit-learn.org. See: https://github.com/scikit-learn/scikit-learn/issues/21755 */display: inline-block !important;position: relative;}#sk-container-id-3 div.sk-text-repr-fallback {display: none;}</style><div id=\"sk-container-id-3\" class=\"sk-top-container\"><div class=\"sk-text-repr-fallback\"><pre>SVC(C=0.1, kernel=&#x27;linear&#x27;)</pre><b>In a Jupyter environment, please rerun this cell to show the HTML representation or trust the notebook. <br />On GitHub, the HTML representation is unable to render, please try loading this page with nbviewer.org.</b></div><div class=\"sk-container\" hidden><div class=\"sk-item\"><div class=\"sk-estimator sk-toggleable\"><input class=\"sk-toggleable__control sk-hidden--visually\" id=\"sk-estimator-id-5\" type=\"checkbox\" checked><label for=\"sk-estimator-id-5\" class=\"sk-toggleable__label sk-toggleable__label-arrow\">SVC</label><div class=\"sk-toggleable__content\"><pre>SVC(C=0.1, kernel=&#x27;linear&#x27;)</pre></div></div></div></div></div>"
      ],
      "text/plain": [
       "SVC(C=0.1, kernel='linear')"
      ]
     },
     "execution_count": 87,
     "metadata": {},
     "output_type": "execute_result"
    }
   ],
   "source": [
    "# hyperparameter tuning\n",
    "estimator = SVC()\n",
    "param_grid = {'C':[0.01,0.1,1],'kernel':['linear','rbf','sigmoid','poly']}\n",
    "\n",
    "\n",
    "svm_grid = GridSearchCV(estimator,param_grid,scoring='accuracy',cv=5)\n",
    "svm_grid.fit(X_train,y_train)\n",
    "svm_grid.best_estimator_"
   ]
  },
  {
   "cell_type": "code",
   "execution_count": 88,
   "id": "54d7b97d",
   "metadata": {},
   "outputs": [
    {
     "name": "stdout",
     "output_type": "stream",
     "text": [
      "Train Accuracy :  0.8085106382978723\n",
      "Test Accuracy :  0.839622641509434\n",
      "CV Score : 0.8084873949579832\n"
     ]
    }
   ],
   "source": [
    "# modeling\n",
    "svm_model = svm_grid.best_estimator_\n",
    "svm_model.fit(X_train,y_train)\n",
    "\n",
    "# Evaluation\n",
    "ypred_train = svm_model.predict(X_train)\n",
    "ypred_test = svm_model.predict(X_test)\n",
    "\n",
    "print(\"Train Accuracy : \",accuracy_score(y_train,ypred_train))\n",
    "print(\"Test Accuracy : \",accuracy_score(y_test,ypred_test))\n",
    "print(\"CV Score :\",cross_val_score(svm_model,X_train,y_train,cv=5).mean())"
   ]
  },
  {
   "cell_type": "markdown",
   "id": "f297f920",
   "metadata": {},
   "source": [
    "### 4.4 Decision Tree\n",
    "- HPT\n",
    "- Identify important features by using feature selection (ensemble method)\n",
    "- Modeling and Evaluation"
   ]
  },
  {
   "cell_type": "code",
   "execution_count": 91,
   "id": "5d3f7bf4",
   "metadata": {},
   "outputs": [
    {
     "data": {
      "text/html": [
       "<style>#sk-container-id-5 {color: black;}#sk-container-id-5 pre{padding: 0;}#sk-container-id-5 div.sk-toggleable {background-color: white;}#sk-container-id-5 label.sk-toggleable__label {cursor: pointer;display: block;width: 100%;margin-bottom: 0;padding: 0.3em;box-sizing: border-box;text-align: center;}#sk-container-id-5 label.sk-toggleable__label-arrow:before {content: \"▸\";float: left;margin-right: 0.25em;color: #696969;}#sk-container-id-5 label.sk-toggleable__label-arrow:hover:before {color: black;}#sk-container-id-5 div.sk-estimator:hover label.sk-toggleable__label-arrow:before {color: black;}#sk-container-id-5 div.sk-toggleable__content {max-height: 0;max-width: 0;overflow: hidden;text-align: left;background-color: #f0f8ff;}#sk-container-id-5 div.sk-toggleable__content pre {margin: 0.2em;color: black;border-radius: 0.25em;background-color: #f0f8ff;}#sk-container-id-5 input.sk-toggleable__control:checked~div.sk-toggleable__content {max-height: 200px;max-width: 100%;overflow: auto;}#sk-container-id-5 input.sk-toggleable__control:checked~label.sk-toggleable__label-arrow:before {content: \"▾\";}#sk-container-id-5 div.sk-estimator input.sk-toggleable__control:checked~label.sk-toggleable__label {background-color: #d4ebff;}#sk-container-id-5 div.sk-label input.sk-toggleable__control:checked~label.sk-toggleable__label {background-color: #d4ebff;}#sk-container-id-5 input.sk-hidden--visually {border: 0;clip: rect(1px 1px 1px 1px);clip: rect(1px, 1px, 1px, 1px);height: 1px;margin: -1px;overflow: hidden;padding: 0;position: absolute;width: 1px;}#sk-container-id-5 div.sk-estimator {font-family: monospace;background-color: #f0f8ff;border: 1px dotted black;border-radius: 0.25em;box-sizing: border-box;margin-bottom: 0.5em;}#sk-container-id-5 div.sk-estimator:hover {background-color: #d4ebff;}#sk-container-id-5 div.sk-parallel-item::after {content: \"\";width: 100%;border-bottom: 1px solid gray;flex-grow: 1;}#sk-container-id-5 div.sk-label:hover label.sk-toggleable__label {background-color: #d4ebff;}#sk-container-id-5 div.sk-serial::before {content: \"\";position: absolute;border-left: 1px solid gray;box-sizing: border-box;top: 0;bottom: 0;left: 50%;z-index: 0;}#sk-container-id-5 div.sk-serial {display: flex;flex-direction: column;align-items: center;background-color: white;padding-right: 0.2em;padding-left: 0.2em;position: relative;}#sk-container-id-5 div.sk-item {position: relative;z-index: 1;}#sk-container-id-5 div.sk-parallel {display: flex;align-items: stretch;justify-content: center;background-color: white;position: relative;}#sk-container-id-5 div.sk-item::before, #sk-container-id-5 div.sk-parallel-item::before {content: \"\";position: absolute;border-left: 1px solid gray;box-sizing: border-box;top: 0;bottom: 0;left: 50%;z-index: -1;}#sk-container-id-5 div.sk-parallel-item {display: flex;flex-direction: column;z-index: 1;position: relative;background-color: white;}#sk-container-id-5 div.sk-parallel-item:first-child::after {align-self: flex-end;width: 50%;}#sk-container-id-5 div.sk-parallel-item:last-child::after {align-self: flex-start;width: 50%;}#sk-container-id-5 div.sk-parallel-item:only-child::after {width: 0;}#sk-container-id-5 div.sk-dashed-wrapped {border: 1px dashed gray;margin: 0 0.4em 0.5em 0.4em;box-sizing: border-box;padding-bottom: 0.4em;background-color: white;}#sk-container-id-5 div.sk-label label {font-family: monospace;font-weight: bold;display: inline-block;line-height: 1.2em;}#sk-container-id-5 div.sk-label-container {text-align: center;}#sk-container-id-5 div.sk-container {/* jupyter's `normalize.less` sets `[hidden] { display: none; }` but bootstrap.min.css set `[hidden] { display: none !important; }` so we also need the `!important` here to be able to override the default hidden behavior on the sphinx rendered scikit-learn.org. See: https://github.com/scikit-learn/scikit-learn/issues/21755 */display: inline-block !important;position: relative;}#sk-container-id-5 div.sk-text-repr-fallback {display: none;}</style><div id=\"sk-container-id-5\" class=\"sk-top-container\"><div class=\"sk-text-repr-fallback\"><pre>DecisionTreeClassifier(max_depth=1)</pre><b>In a Jupyter environment, please rerun this cell to show the HTML representation or trust the notebook. <br />On GitHub, the HTML representation is unable to render, please try loading this page with nbviewer.org.</b></div><div class=\"sk-container\" hidden><div class=\"sk-item\"><div class=\"sk-estimator sk-toggleable\"><input class=\"sk-toggleable__control sk-hidden--visually\" id=\"sk-estimator-id-7\" type=\"checkbox\" checked><label for=\"sk-estimator-id-7\" class=\"sk-toggleable__label sk-toggleable__label-arrow\">DecisionTreeClassifier</label><div class=\"sk-toggleable__content\"><pre>DecisionTreeClassifier(max_depth=1)</pre></div></div></div></div></div>"
      ],
      "text/plain": [
       "DecisionTreeClassifier(max_depth=1)"
      ]
     },
     "execution_count": 91,
     "metadata": {},
     "output_type": "execute_result"
    }
   ],
   "source": [
    "# HyperParameter Tuning\n",
    "estimator = DecisionTreeClassifier()\n",
    "param_grid = {\"criterion\":['gini','entropy'],\"max_depth\":list(range(1,16))} # max_depth range is known by the default model \n",
    "\n",
    "dt_grid = GridSearchCV(estimator,param_grid,scoring='accuracy',cv=5)\n",
    "dt_grid.fit(X_train,y_train)\n",
    "\n",
    "dt_model = dt_grid.best_estimator_\n",
    "dt_model\n"
   ]
  },
  {
   "cell_type": "code",
   "execution_count": 95,
   "id": "cb72e7fa",
   "metadata": {},
   "outputs": [
    {
     "data": {
      "text/plain": [
       "['Credit_History']"
      ]
     },
     "execution_count": 95,
     "metadata": {},
     "output_type": "execute_result"
    }
   ],
   "source": [
    "# important features\n",
    "feats_dt = pd.DataFrame (data = dt_model.feature_importances_,\n",
    "                        index = X.columns,\n",
    "                        columns = [\"Importance in %\"])\n",
    "\n",
    "imp_feats_dt = feats_dt[feats_dt[\"Importance in %\"]>0].index.tolist()\n",
    "imp_feats_dt"
   ]
  },
  {
   "cell_type": "markdown",
   "id": "9b398a89",
   "metadata": {},
   "source": [
    "- **create Decision Tree Model with Important features and important hyper parameters** :"
   ]
  },
  {
   "cell_type": "code",
   "execution_count": 96,
   "id": "cc73125e",
   "metadata": {},
   "outputs": [
    {
     "name": "stdout",
     "output_type": "stream",
     "text": [
      "Train Accuracy :  0.8085106382978723\n",
      "Test Accuracy :  0.839622641509434\n",
      "CV Score : 0.8084873949579832\n"
     ]
    }
   ],
   "source": [
    "# selecting train & test data with important features\n",
    "X_train_dt = X_train[imp_feats_dt]\n",
    "X_test_dt = X_test[imp_feats_dt]\n",
    "\n",
    "#modleing\n",
    "dt_model .fit(X_train_dt,y_train)\n",
    "\n",
    "# Evaluation\n",
    "ypred_train = dt_model . predict(X_train_dt)\n",
    "ypred_test = dt_model . predict(X_test_dt)\n",
    "\n",
    "\n",
    "print(\"Train Accuracy : \",accuracy_score(y_train,ypred_train))\n",
    "print(\"Test Accuracy : \",accuracy_score(y_test,ypred_test))\n",
    "print(\"CV Score :\",cross_val_score(dt_model,X_train,y_train,cv=5).mean())"
   ]
  },
  {
   "cell_type": "markdown",
   "id": "335045ab",
   "metadata": {},
   "source": [
    "## 4.5 Random Forest\n",
    "- HPT\n",
    "- Identify important features by using feature selection (ensemble method)\n",
    "- Modeling and Evaluation"
   ]
  },
  {
   "cell_type": "code",
   "execution_count": 100,
   "id": "cdb752ff",
   "metadata": {},
   "outputs": [
    {
     "data": {
      "text/html": [
       "<style>#sk-container-id-7 {color: black;}#sk-container-id-7 pre{padding: 0;}#sk-container-id-7 div.sk-toggleable {background-color: white;}#sk-container-id-7 label.sk-toggleable__label {cursor: pointer;display: block;width: 100%;margin-bottom: 0;padding: 0.3em;box-sizing: border-box;text-align: center;}#sk-container-id-7 label.sk-toggleable__label-arrow:before {content: \"▸\";float: left;margin-right: 0.25em;color: #696969;}#sk-container-id-7 label.sk-toggleable__label-arrow:hover:before {color: black;}#sk-container-id-7 div.sk-estimator:hover label.sk-toggleable__label-arrow:before {color: black;}#sk-container-id-7 div.sk-toggleable__content {max-height: 0;max-width: 0;overflow: hidden;text-align: left;background-color: #f0f8ff;}#sk-container-id-7 div.sk-toggleable__content pre {margin: 0.2em;color: black;border-radius: 0.25em;background-color: #f0f8ff;}#sk-container-id-7 input.sk-toggleable__control:checked~div.sk-toggleable__content {max-height: 200px;max-width: 100%;overflow: auto;}#sk-container-id-7 input.sk-toggleable__control:checked~label.sk-toggleable__label-arrow:before {content: \"▾\";}#sk-container-id-7 div.sk-estimator input.sk-toggleable__control:checked~label.sk-toggleable__label {background-color: #d4ebff;}#sk-container-id-7 div.sk-label input.sk-toggleable__control:checked~label.sk-toggleable__label {background-color: #d4ebff;}#sk-container-id-7 input.sk-hidden--visually {border: 0;clip: rect(1px 1px 1px 1px);clip: rect(1px, 1px, 1px, 1px);height: 1px;margin: -1px;overflow: hidden;padding: 0;position: absolute;width: 1px;}#sk-container-id-7 div.sk-estimator {font-family: monospace;background-color: #f0f8ff;border: 1px dotted black;border-radius: 0.25em;box-sizing: border-box;margin-bottom: 0.5em;}#sk-container-id-7 div.sk-estimator:hover {background-color: #d4ebff;}#sk-container-id-7 div.sk-parallel-item::after {content: \"\";width: 100%;border-bottom: 1px solid gray;flex-grow: 1;}#sk-container-id-7 div.sk-label:hover label.sk-toggleable__label {background-color: #d4ebff;}#sk-container-id-7 div.sk-serial::before {content: \"\";position: absolute;border-left: 1px solid gray;box-sizing: border-box;top: 0;bottom: 0;left: 50%;z-index: 0;}#sk-container-id-7 div.sk-serial {display: flex;flex-direction: column;align-items: center;background-color: white;padding-right: 0.2em;padding-left: 0.2em;position: relative;}#sk-container-id-7 div.sk-item {position: relative;z-index: 1;}#sk-container-id-7 div.sk-parallel {display: flex;align-items: stretch;justify-content: center;background-color: white;position: relative;}#sk-container-id-7 div.sk-item::before, #sk-container-id-7 div.sk-parallel-item::before {content: \"\";position: absolute;border-left: 1px solid gray;box-sizing: border-box;top: 0;bottom: 0;left: 50%;z-index: -1;}#sk-container-id-7 div.sk-parallel-item {display: flex;flex-direction: column;z-index: 1;position: relative;background-color: white;}#sk-container-id-7 div.sk-parallel-item:first-child::after {align-self: flex-end;width: 50%;}#sk-container-id-7 div.sk-parallel-item:last-child::after {align-self: flex-start;width: 50%;}#sk-container-id-7 div.sk-parallel-item:only-child::after {width: 0;}#sk-container-id-7 div.sk-dashed-wrapped {border: 1px dashed gray;margin: 0 0.4em 0.5em 0.4em;box-sizing: border-box;padding-bottom: 0.4em;background-color: white;}#sk-container-id-7 div.sk-label label {font-family: monospace;font-weight: bold;display: inline-block;line-height: 1.2em;}#sk-container-id-7 div.sk-label-container {text-align: center;}#sk-container-id-7 div.sk-container {/* jupyter's `normalize.less` sets `[hidden] { display: none; }` but bootstrap.min.css set `[hidden] { display: none !important; }` so we also need the `!important` here to be able to override the default hidden behavior on the sphinx rendered scikit-learn.org. See: https://github.com/scikit-learn/scikit-learn/issues/21755 */display: inline-block !important;position: relative;}#sk-container-id-7 div.sk-text-repr-fallback {display: none;}</style><div id=\"sk-container-id-7\" class=\"sk-top-container\"><div class=\"sk-text-repr-fallback\"><pre>RandomForestClassifier(n_estimators=45)</pre><b>In a Jupyter environment, please rerun this cell to show the HTML representation or trust the notebook. <br />On GitHub, the HTML representation is unable to render, please try loading this page with nbviewer.org.</b></div><div class=\"sk-container\" hidden><div class=\"sk-item\"><div class=\"sk-estimator sk-toggleable\"><input class=\"sk-toggleable__control sk-hidden--visually\" id=\"sk-estimator-id-9\" type=\"checkbox\" checked><label for=\"sk-estimator-id-9\" class=\"sk-toggleable__label sk-toggleable__label-arrow\">RandomForestClassifier</label><div class=\"sk-toggleable__content\"><pre>RandomForestClassifier(n_estimators=45)</pre></div></div></div></div></div>"
      ],
      "text/plain": [
       "RandomForestClassifier(n_estimators=45)"
      ]
     },
     "execution_count": 100,
     "metadata": {},
     "output_type": "execute_result"
    }
   ],
   "source": [
    "# hyper parameter tuning\n",
    "estimator = RandomForestClassifier()\n",
    "param_grid = {'n_estimators':list(range(1,51))} \n",
    "\n",
    "rf_grid = GridSearchCV(estimator,param_grid,scoring='accuracy',cv=5)\n",
    "rf_grid.fit(X_train,y_train)\n",
    "\n",
    "rf_model = rf_grid.best_estimator_\n",
    "rf_model"
   ]
  },
  {
   "cell_type": "code",
   "execution_count": 101,
   "id": "9a364c92",
   "metadata": {},
   "outputs": [
    {
     "data": {
      "text/plain": [
       "['Gender',\n",
       " 'Married',\n",
       " 'Dependents',\n",
       " 'Education',\n",
       " 'Self_Employed',\n",
       " 'LoanAmount',\n",
       " 'Loan_Amount_Term',\n",
       " 'Credit_History',\n",
       " 'Property_Area',\n",
       " 'Income']"
      ]
     },
     "execution_count": 101,
     "metadata": {},
     "output_type": "execute_result"
    }
   ],
   "source": [
    "# important features\n",
    "feats_rf = pd.DataFrame (data = rf_model.feature_importances_,\n",
    "                        index = X.columns,\n",
    "                        columns = [\"Importance in %\"])\n",
    "\n",
    "imp_feats_rf = feats_rf[feats_rf[\"Importance in %\"]>0].index.tolist()\n",
    "imp_feats_rf"
   ]
  },
  {
   "cell_type": "code",
   "execution_count": 102,
   "id": "e7754ef5",
   "metadata": {},
   "outputs": [
    {
     "name": "stdout",
     "output_type": "stream",
     "text": [
      "Train Accuracy :  1.0\n",
      "Test Accuracy :  0.8301886792452831\n",
      "CV Score : 0.7753501400560224\n"
     ]
    }
   ],
   "source": [
    "# selecting train & test data with important features\n",
    "X_train_rf = X_train[imp_feats_rf]\n",
    "X_test_rf = X_test[imp_feats_rf]\n",
    "\n",
    "#modleing\n",
    "rf_model .fit(X_train_rf,y_train)\n",
    "\n",
    "# Evaluation\n",
    "ypred_train = rf_model . predict(X_train_rf)\n",
    "ypred_test = rf_model . predict(X_test_rf)\n",
    "\n",
    "\n",
    "print(\"Train Accuracy : \",accuracy_score(y_train,ypred_train))\n",
    "print(\"Test Accuracy : \",accuracy_score(y_test,ypred_test))\n",
    "print(\"CV Score :\",cross_val_score(rf_model,X_train,y_train,cv=5).mean())"
   ]
  },
  {
   "cell_type": "markdown",
   "id": "5c0374e3",
   "metadata": {},
   "source": [
    "## 4.6 Ada_boost"
   ]
  },
  {
   "cell_type": "code",
   "execution_count": 104,
   "id": "ca44749c",
   "metadata": {},
   "outputs": [],
   "source": [
    "# Hyper parameter tuning\n",
    "estimator = AdaBoostClassifier()\n",
    "param_grid = {'n_estimators':list(range(1,51))}\n",
    "\n",
    "ab_grid = GridSearchCV (estimator,param_grid,scoring='accuracy',cv=5)\n",
    "ab_grid.fit(X_train,y_train)\n",
    "\n",
    "ab_model = ab_grid.best_estimator_"
   ]
  },
  {
   "cell_type": "code",
   "execution_count": 105,
   "id": "2a1a6242",
   "metadata": {},
   "outputs": [
    {
     "data": {
      "text/plain": [
       "['Dependents',\n",
       " 'Education',\n",
       " 'LoanAmount',\n",
       " 'Loan_Amount_Term',\n",
       " 'Credit_History',\n",
       " 'Property_Area',\n",
       " 'Income']"
      ]
     },
     "execution_count": 105,
     "metadata": {},
     "output_type": "execute_result"
    }
   ],
   "source": [
    "# important features\n",
    "feats_ab = pd.DataFrame (data = ab_model.feature_importances_,\n",
    "                        index = X.columns,\n",
    "                        columns = [\"Importance in %\"])\n",
    "\n",
    "imp_feats_ab = feats_ab[feats_ab[\"Importance in %\"]>0].index.tolist()\n",
    "imp_feats_ab"
   ]
  },
  {
   "cell_type": "code",
   "execution_count": 106,
   "id": "ba3b55f7",
   "metadata": {},
   "outputs": [
    {
     "name": "stdout",
     "output_type": "stream",
     "text": [
      "Train Accuracy :  0.8486997635933806\n",
      "Test Accuracy :  0.7924528301886793\n",
      "CV Score : 0.8179551820728292\n"
     ]
    }
   ],
   "source": [
    "# selecting train & test data with important features\n",
    "X_train_ab = X_train[imp_feats_ab]\n",
    "X_test_ab = X_test[imp_feats_ab]\n",
    "\n",
    "#modleing\n",
    "ab_model .fit(X_train_ab,y_train)\n",
    "\n",
    "# Evaluation\n",
    "ypred_train = ab_model . predict(X_train_ab)\n",
    "ypred_test = ab_model . predict(X_test_ab)\n",
    "\n",
    "\n",
    "print(\"Train Accuracy : \",accuracy_score(y_train,ypred_train))\n",
    "print(\"Test Accuracy : \",accuracy_score(y_test,ypred_test))\n",
    "print(\"CV Score :\",cross_val_score(ab_model,X_train,y_train,cv=5).mean())"
   ]
  },
  {
   "cell_type": "markdown",
   "id": "5eb80202",
   "metadata": {},
   "source": [
    "## 4.7 Gradient_boost\n"
   ]
  },
  {
   "cell_type": "code",
   "execution_count": 107,
   "id": "8cd407c9",
   "metadata": {},
   "outputs": [],
   "source": [
    "# Hyper parameter tuning\n",
    "estimator = GradientBoostingClassifier()\n",
    "param_grid = {'n_estimators':list(range(1,10)),\n",
    "             \"learning_rate\":[0.1,0.2,0.3,0.4,0.5,0.6,0.7,0.8,0.9,1.0]}\n",
    "\n",
    "gb_grid = GridSearchCV (estimator,param_grid,scoring='accuracy',cv=5)\n",
    "gb_grid.fit(X_train,y_train)\n",
    "\n",
    "gb_model = gb_grid.best_estimator_"
   ]
  },
  {
   "cell_type": "code",
   "execution_count": 109,
   "id": "1eb17c7e",
   "metadata": {},
   "outputs": [
    {
     "data": {
      "text/plain": [
       "['Married',\n",
       " 'LoanAmount',\n",
       " 'Loan_Amount_Term',\n",
       " 'Credit_History',\n",
       " 'Property_Area',\n",
       " 'Income']"
      ]
     },
     "execution_count": 109,
     "metadata": {},
     "output_type": "execute_result"
    }
   ],
   "source": [
    "# important features\n",
    "feats_gb = pd.DataFrame (data = gb_model.feature_importances_,\n",
    "                        index = X.columns,\n",
    "                        columns = [\"Importance in %\"])\n",
    "\n",
    "imp_feats_gb = feats_gb[feats_gb[\"Importance in %\"]>0].index.tolist()\n",
    "imp_feats_gb"
   ]
  },
  {
   "cell_type": "code",
   "execution_count": 112,
   "id": "cfd59ab8",
   "metadata": {},
   "outputs": [
    {
     "name": "stdout",
     "output_type": "stream",
     "text": [
      "Train Accuracy :  0.8226950354609929\n",
      "Test Accuracy :  0.839622641509434\n",
      "CV Score : 0.801344537815126\n"
     ]
    }
   ],
   "source": [
    "# selecting train & test data with important features\n",
    "X_train_gb =X_train[imp_feats_gb]\n",
    "X_test_gb = X_test[imp_feats_gb]\n",
    "\n",
    "#modleing\n",
    "gb_model .fit(X_train_gb,y_train)\n",
    "\n",
    "# Evaluation\n",
    "ypred_train = gb_model . predict(X_train_gb)\n",
    "ypred_test = gb_model . predict(X_test_gb)\n",
    "\n",
    "\n",
    "print(\"Train Accuracy : \",accuracy_score(y_train,ypred_train))\n",
    "print(\"Test Accuracy : \",accuracy_score(y_test,ypred_test))\n",
    "print(\"CV Score :\",cross_val_score(gb_model,X_train,y_train,cv=5).mean())"
   ]
  },
  {
   "cell_type": "markdown",
   "id": "571dad9e",
   "metadata": {},
   "source": [
    "## 4.8 XG_boost"
   ]
  },
  {
   "cell_type": "code",
   "execution_count": 113,
   "id": "4db36b7d",
   "metadata": {},
   "outputs": [],
   "source": [
    "# this will take so much of time so i dont want t run it now"
   ]
  },
  {
   "cell_type": "markdown",
   "id": "1ff53095",
   "metadata": {},
   "source": [
    "# Presentation"
   ]
  },
  {
   "cell_type": "code",
   "execution_count": 114,
   "id": "afa74986",
   "metadata": {},
   "outputs": [
    {
     "data": {
      "text/plain": [
       "['loan.joblib']"
      ]
     },
     "execution_count": 114,
     "metadata": {},
     "output_type": "execute_result"
    }
   ],
   "source": [
    "from joblib import dump\n",
    "dump (dt_model,'loan.joblib')"
   ]
  },
  {
   "cell_type": "code",
   "execution_count": null,
   "id": "e747ed28",
   "metadata": {},
   "outputs": [],
   "source": []
  }
 ],
 "metadata": {
  "kernelspec": {
   "display_name": "Python 3 (ipykernel)",
   "language": "python",
   "name": "python3"
  },
  "language_info": {
   "codemirror_mode": {
    "name": "ipython",
    "version": 3
   },
   "file_extension": ".py",
   "mimetype": "text/x-python",
   "name": "python",
   "nbconvert_exporter": "python",
   "pygments_lexer": "ipython3",
   "version": "3.11.5"
  }
 },
 "nbformat": 4,
 "nbformat_minor": 5
}
